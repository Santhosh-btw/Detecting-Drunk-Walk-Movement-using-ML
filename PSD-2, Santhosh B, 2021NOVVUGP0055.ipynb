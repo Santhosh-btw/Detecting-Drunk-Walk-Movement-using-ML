{
 "cells": [
  {
   "cell_type": "code",
   "execution_count": 1,
   "id": "da1f6b2d",
   "metadata": {},
   "outputs": [],
   "source": [
    "import pandas as pd\n",
    "import numpy as np\n",
    "import datetime\n",
    "\n",
    "import matplotlib.pyplot as plt\n",
    "import seaborn as sns\n",
    "\n",
    "from sklearn.linear_model import LinearRegression"
   ]
  },
  {
   "cell_type": "code",
   "execution_count": 2,
   "id": "9874e4cb",
   "metadata": {},
   "outputs": [],
   "source": [
    "df = pd.read_csv('all_accelerometer_data_pids_13.csv')\n",
    "\n",
    "# Removing empty records\n",
    "df = df[df['time'] != 0]\n",
    "df = df.reset_index(drop = True)\n",
    "\n",
    "# Gathering participant names\n",
    "participants = pd.read_table('pids.txt', header=None)\n",
    "participants = participants[0].tolist()\n",
    "\n"
   ]
  },
  {
   "cell_type": "code",
   "execution_count": 3,
   "id": "40307a26",
   "metadata": {},
   "outputs": [
    {
     "data": {
      "text/html": [
       "<div>\n",
       "<style scoped>\n",
       "    .dataframe tbody tr th:only-of-type {\n",
       "        vertical-align: middle;\n",
       "    }\n",
       "\n",
       "    .dataframe tbody tr th {\n",
       "        vertical-align: top;\n",
       "    }\n",
       "\n",
       "    .dataframe thead th {\n",
       "        text-align: right;\n",
       "    }\n",
       "</style>\n",
       "<table border=\"1\" class=\"dataframe\">\n",
       "  <thead>\n",
       "    <tr style=\"text-align: right;\">\n",
       "      <th></th>\n",
       "      <th>time</th>\n",
       "      <th>pid</th>\n",
       "      <th>x</th>\n",
       "      <th>y</th>\n",
       "      <th>z</th>\n",
       "      <th>time_formatted</th>\n",
       "    </tr>\n",
       "  </thead>\n",
       "  <tbody>\n",
       "    <tr>\n",
       "      <th>0</th>\n",
       "      <td>1493733882409</td>\n",
       "      <td>SA0297</td>\n",
       "      <td>0.0758</td>\n",
       "      <td>0.0273</td>\n",
       "      <td>-0.0102</td>\n",
       "      <td>2017-05-02 14:04:42.409</td>\n",
       "    </tr>\n",
       "    <tr>\n",
       "      <th>1</th>\n",
       "      <td>1493733882455</td>\n",
       "      <td>SA0297</td>\n",
       "      <td>-0.0359</td>\n",
       "      <td>0.0794</td>\n",
       "      <td>0.0037</td>\n",
       "      <td>2017-05-02 14:04:42.455</td>\n",
       "    </tr>\n",
       "    <tr>\n",
       "      <th>2</th>\n",
       "      <td>1493733882500</td>\n",
       "      <td>SA0297</td>\n",
       "      <td>-0.2427</td>\n",
       "      <td>-0.0861</td>\n",
       "      <td>-0.0163</td>\n",
       "      <td>2017-05-02 14:04:42.500</td>\n",
       "    </tr>\n",
       "    <tr>\n",
       "      <th>3</th>\n",
       "      <td>1493733883945</td>\n",
       "      <td>SA0297</td>\n",
       "      <td>-0.2888</td>\n",
       "      <td>0.0514</td>\n",
       "      <td>-0.0145</td>\n",
       "      <td>2017-05-02 14:04:43.945</td>\n",
       "    </tr>\n",
       "    <tr>\n",
       "      <th>4</th>\n",
       "      <td>1493733883953</td>\n",
       "      <td>SA0297</td>\n",
       "      <td>-0.0413</td>\n",
       "      <td>-0.0184</td>\n",
       "      <td>-0.0105</td>\n",
       "      <td>2017-05-02 14:04:43.953</td>\n",
       "    </tr>\n",
       "  </tbody>\n",
       "</table>\n",
       "</div>"
      ],
      "text/plain": [
       "            time     pid       x       y       z          time_formatted\n",
       "0  1493733882409  SA0297  0.0758  0.0273 -0.0102 2017-05-02 14:04:42.409\n",
       "1  1493733882455  SA0297 -0.0359  0.0794  0.0037 2017-05-02 14:04:42.455\n",
       "2  1493733882500  SA0297 -0.2427 -0.0861 -0.0163 2017-05-02 14:04:42.500\n",
       "3  1493733883945  SA0297 -0.2888  0.0514 -0.0145 2017-05-02 14:04:43.945\n",
       "4  1493733883953  SA0297 -0.0413 -0.0184 -0.0105 2017-05-02 14:04:43.953"
      ]
     },
     "execution_count": 3,
     "metadata": {},
     "output_type": "execute_result"
    }
   ],
   "source": [
    "df['time_formatted'] = pd.to_datetime(df['time'], unit = 'ms')\n",
    "df.head()"
   ]
  },
  {
   "cell_type": "markdown",
   "id": "c56c197f",
   "metadata": {},
   "source": [
    "### Verifying if the x, y, z data is recorded at 40Hz for each participant"
   ]
  },
  {
   "cell_type": "code",
   "execution_count": 4,
   "id": "51a0700f",
   "metadata": {
    "scrolled": false
   },
   "outputs": [
    {
     "data": {
      "text/html": [
       "<div>\n",
       "<style scoped>\n",
       "    .dataframe tbody tr th:only-of-type {\n",
       "        vertical-align: middle;\n",
       "    }\n",
       "\n",
       "    .dataframe tbody tr th {\n",
       "        vertical-align: top;\n",
       "    }\n",
       "\n",
       "    .dataframe thead th {\n",
       "        text-align: right;\n",
       "    }\n",
       "</style>\n",
       "<table border=\"1\" class=\"dataframe\">\n",
       "  <thead>\n",
       "    <tr style=\"text-align: right;\">\n",
       "      <th></th>\n",
       "      <th>pid</th>\n",
       "      <th>shortest interval (ms)</th>\n",
       "      <th>mean interval (ms)</th>\n",
       "      <th>longest interval (ms)</th>\n",
       "    </tr>\n",
       "  </thead>\n",
       "  <tbody>\n",
       "    <tr>\n",
       "      <th>0</th>\n",
       "      <td>BK7610</td>\n",
       "      <td>0.0</td>\n",
       "      <td>6.247</td>\n",
       "      <td>76.0</td>\n",
       "    </tr>\n",
       "    <tr>\n",
       "      <th>1</th>\n",
       "      <td>BU4707</td>\n",
       "      <td>0.0</td>\n",
       "      <td>5.593</td>\n",
       "      <td>27.0</td>\n",
       "    </tr>\n",
       "    <tr>\n",
       "      <th>2</th>\n",
       "      <td>CC6740</td>\n",
       "      <td>0.0</td>\n",
       "      <td>8.368</td>\n",
       "      <td>167051.0</td>\n",
       "    </tr>\n",
       "    <tr>\n",
       "      <th>3</th>\n",
       "      <td>DC6359</td>\n",
       "      <td>0.0</td>\n",
       "      <td>5.407</td>\n",
       "      <td>84.0</td>\n",
       "    </tr>\n",
       "    <tr>\n",
       "      <th>4</th>\n",
       "      <td>DK3500</td>\n",
       "      <td>0.0</td>\n",
       "      <td>6.107</td>\n",
       "      <td>35.0</td>\n",
       "    </tr>\n",
       "    <tr>\n",
       "      <th>5</th>\n",
       "      <td>HV0618</td>\n",
       "      <td>0.0</td>\n",
       "      <td>7.384</td>\n",
       "      <td>83.0</td>\n",
       "    </tr>\n",
       "    <tr>\n",
       "      <th>6</th>\n",
       "      <td>JB3156</td>\n",
       "      <td>0.0</td>\n",
       "      <td>6.464</td>\n",
       "      <td>17014.0</td>\n",
       "    </tr>\n",
       "    <tr>\n",
       "      <th>7</th>\n",
       "      <td>JR8022</td>\n",
       "      <td>0.0</td>\n",
       "      <td>4.322</td>\n",
       "      <td>29.0</td>\n",
       "    </tr>\n",
       "    <tr>\n",
       "      <th>8</th>\n",
       "      <td>MC7070</td>\n",
       "      <td>0.0</td>\n",
       "      <td>4.604</td>\n",
       "      <td>34.0</td>\n",
       "    </tr>\n",
       "    <tr>\n",
       "      <th>9</th>\n",
       "      <td>MJ8002</td>\n",
       "      <td>0.0</td>\n",
       "      <td>5.227</td>\n",
       "      <td>30.0</td>\n",
       "    </tr>\n",
       "    <tr>\n",
       "      <th>10</th>\n",
       "      <td>PC6771</td>\n",
       "      <td>0.0</td>\n",
       "      <td>6.782</td>\n",
       "      <td>75076.0</td>\n",
       "    </tr>\n",
       "    <tr>\n",
       "      <th>11</th>\n",
       "      <td>SA0297</td>\n",
       "      <td>0.0</td>\n",
       "      <td>7.124</td>\n",
       "      <td>27040.0</td>\n",
       "    </tr>\n",
       "    <tr>\n",
       "      <th>12</th>\n",
       "      <td>SF3079</td>\n",
       "      <td>0.0</td>\n",
       "      <td>7.550</td>\n",
       "      <td>5279.0</td>\n",
       "    </tr>\n",
       "  </tbody>\n",
       "</table>\n",
       "</div>"
      ],
      "text/plain": [
       "       pid  shortest interval (ms)  mean interval (ms)  longest interval (ms)\n",
       "0   BK7610                     0.0               6.247                   76.0\n",
       "1   BU4707                     0.0               5.593                   27.0\n",
       "2   CC6740                     0.0               8.368               167051.0\n",
       "3   DC6359                     0.0               5.407                   84.0\n",
       "4   DK3500                     0.0               6.107                   35.0\n",
       "5   HV0618                     0.0               7.384                   83.0\n",
       "6   JB3156                     0.0               6.464                17014.0\n",
       "7   JR8022                     0.0               4.322                   29.0\n",
       "8   MC7070                     0.0               4.604                   34.0\n",
       "9   MJ8002                     0.0               5.227                   30.0\n",
       "10  PC6771                     0.0               6.782                75076.0\n",
       "11  SA0297                     0.0               7.124                27040.0\n",
       "12  SF3079                     0.0               7.550                 5279.0"
      ]
     },
     "execution_count": 4,
     "metadata": {},
     "output_type": "execute_result"
    }
   ],
   "source": [
    "# Calculate the time difference between consecutive records\n",
    "df['time_diff'] = df['time_formatted'].diff()\n",
    "\n",
    "\n",
    "interval_df = []\n",
    "for i in participants:\n",
    "    pid_data = df[df['pid'] == i]\n",
    "    \n",
    "    min_inter = pid_data['time_diff'].min().total_seconds() * 1000\n",
    "    mean_inter = pid_data['time_diff'].mean().total_seconds() * 1000\n",
    "    max_inter = pid_data['time_diff'].max().total_seconds() * 1000\n",
    "    \n",
    "    interval_df.append({'pid': i, 'shortest interval (ms)': min_inter, 'mean interval (ms)': mean_inter, 'longest interval (ms)': max_inter})\n",
    "    \n",
    "interval_df = pd.DataFrame(interval_df)\n",
    "interval_df"
   ]
  },
  {
   "cell_type": "markdown",
   "id": "7e2a624e",
   "metadata": {},
   "source": [
    "### Combining individual csv into one"
   ]
  },
  {
   "cell_type": "markdown",
   "id": "2b6423e1",
   "metadata": {},
   "source": [
    "Joining all the 13 csv files into one"
   ]
  },
  {
   "cell_type": "code",
   "execution_count": 5,
   "id": "b4a8acd1",
   "metadata": {},
   "outputs": [
    {
     "data": {
      "text/plain": [
       "['BK7610',\n",
       " 'BU4707',\n",
       " 'CC6740',\n",
       " 'DC6359',\n",
       " 'DK3500',\n",
       " 'HV0618',\n",
       " 'JB3156',\n",
       " 'JR8022',\n",
       " 'MC7070',\n",
       " 'MJ8002',\n",
       " 'PC6771',\n",
       " 'SA0297',\n",
       " 'SF3079']"
      ]
     },
     "execution_count": 5,
     "metadata": {},
     "output_type": "execute_result"
    }
   ],
   "source": [
    "participants"
   ]
  },
  {
   "cell_type": "code",
   "execution_count": 6,
   "id": "30ec33e5",
   "metadata": {},
   "outputs": [],
   "source": [
    "clean_tac_data = pd.DataFrame()\n",
    "\n",
    "for participant_name in participants:\n",
    "    pid_fname = f'{participant_name}_clean_TAC.csv'\n",
    "    participant_df = pd.read_csv(f'clean_tac/{pid_fname}')\n",
    "    \n",
    "    participant_df['pid'] = participant_name\n",
    "    participant_df['timestamp_for'] = pd.to_datetime(participant_df['timestamp'], unit='s')\n",
    "    \n",
    "    clean_tac_data = pd.concat([clean_tac_data, participant_df], ignore_index=True)\n"
   ]
  },
  {
   "cell_type": "code",
   "execution_count": 7,
   "id": "74338c45",
   "metadata": {},
   "outputs": [
    {
     "data": {
      "text/plain": [
       "(715, 4)"
      ]
     },
     "execution_count": 7,
     "metadata": {},
     "output_type": "execute_result"
    }
   ],
   "source": [
    "clean_tac_data.shape"
   ]
  },
  {
   "cell_type": "code",
   "execution_count": 8,
   "id": "92e717b1",
   "metadata": {
    "scrolled": false
   },
   "outputs": [
    {
     "data": {
      "text/html": [
       "<div>\n",
       "<style scoped>\n",
       "    .dataframe tbody tr th:only-of-type {\n",
       "        vertical-align: middle;\n",
       "    }\n",
       "\n",
       "    .dataframe tbody tr th {\n",
       "        vertical-align: top;\n",
       "    }\n",
       "\n",
       "    .dataframe thead th {\n",
       "        text-align: right;\n",
       "    }\n",
       "</style>\n",
       "<table border=\"1\" class=\"dataframe\">\n",
       "  <thead>\n",
       "    <tr style=\"text-align: right;\">\n",
       "      <th></th>\n",
       "      <th>timestamp</th>\n",
       "      <th>TAC_Reading</th>\n",
       "      <th>pid</th>\n",
       "      <th>timestamp_for</th>\n",
       "      <th>diff</th>\n",
       "    </tr>\n",
       "  </thead>\n",
       "  <tbody>\n",
       "    <tr>\n",
       "      <th>0</th>\n",
       "      <td>1493718714</td>\n",
       "      <td>-0.000482</td>\n",
       "      <td>BK7610</td>\n",
       "      <td>2017-05-02 09:51:54</td>\n",
       "      <td>NaT</td>\n",
       "    </tr>\n",
       "    <tr>\n",
       "      <th>1</th>\n",
       "      <td>1493720697</td>\n",
       "      <td>0.001573</td>\n",
       "      <td>BK7610</td>\n",
       "      <td>2017-05-02 10:24:57</td>\n",
       "      <td>0 days 00:33:03</td>\n",
       "    </tr>\n",
       "    <tr>\n",
       "      <th>2</th>\n",
       "      <td>1493721027</td>\n",
       "      <td>0.002144</td>\n",
       "      <td>BK7610</td>\n",
       "      <td>2017-05-02 10:30:27</td>\n",
       "      <td>0 days 00:05:30</td>\n",
       "    </tr>\n",
       "    <tr>\n",
       "      <th>3</th>\n",
       "      <td>1493721357</td>\n",
       "      <td>0.000877</td>\n",
       "      <td>BK7610</td>\n",
       "      <td>2017-05-02 10:35:57</td>\n",
       "      <td>0 days 00:05:30</td>\n",
       "    </tr>\n",
       "    <tr>\n",
       "      <th>4</th>\n",
       "      <td>1493721686</td>\n",
       "      <td>-0.001145</td>\n",
       "      <td>BK7610</td>\n",
       "      <td>2017-05-02 10:41:26</td>\n",
       "      <td>0 days 00:05:29</td>\n",
       "    </tr>\n",
       "  </tbody>\n",
       "</table>\n",
       "</div>"
      ],
      "text/plain": [
       "    timestamp  TAC_Reading     pid       timestamp_for            diff\n",
       "0  1493718714    -0.000482  BK7610 2017-05-02 09:51:54             NaT\n",
       "1  1493720697     0.001573  BK7610 2017-05-02 10:24:57 0 days 00:33:03\n",
       "2  1493721027     0.002144  BK7610 2017-05-02 10:30:27 0 days 00:05:30\n",
       "3  1493721357     0.000877  BK7610 2017-05-02 10:35:57 0 days 00:05:30\n",
       "4  1493721686    -0.001145  BK7610 2017-05-02 10:41:26 0 days 00:05:29"
      ]
     },
     "execution_count": 8,
     "metadata": {},
     "output_type": "execute_result"
    }
   ],
   "source": [
    "clean_tac_data['diff'] = clean_tac_data['timestamp_for'].diff()\n",
    "clean_tac_data.head()"
   ]
  },
  {
   "cell_type": "code",
   "execution_count": 9,
   "id": "069a21e9",
   "metadata": {},
   "outputs": [
    {
     "data": {
      "text/html": [
       "<div>\n",
       "<style scoped>\n",
       "    .dataframe tbody tr th:only-of-type {\n",
       "        vertical-align: middle;\n",
       "    }\n",
       "\n",
       "    .dataframe tbody tr th {\n",
       "        vertical-align: top;\n",
       "    }\n",
       "\n",
       "    .dataframe thead th {\n",
       "        text-align: right;\n",
       "    }\n",
       "</style>\n",
       "<table border=\"1\" class=\"dataframe\">\n",
       "  <thead>\n",
       "    <tr style=\"text-align: right;\">\n",
       "      <th></th>\n",
       "      <th>time</th>\n",
       "      <th>pid</th>\n",
       "      <th>x</th>\n",
       "      <th>y</th>\n",
       "      <th>z</th>\n",
       "      <th>time_formatted</th>\n",
       "      <th>time_diff</th>\n",
       "    </tr>\n",
       "  </thead>\n",
       "  <tbody>\n",
       "    <tr>\n",
       "      <th>0</th>\n",
       "      <td>1493733882409</td>\n",
       "      <td>SA0297</td>\n",
       "      <td>0.0758</td>\n",
       "      <td>0.0273</td>\n",
       "      <td>-0.0102</td>\n",
       "      <td>2017-05-02 14:04:42.409</td>\n",
       "      <td>NaT</td>\n",
       "    </tr>\n",
       "    <tr>\n",
       "      <th>1</th>\n",
       "      <td>1493733882455</td>\n",
       "      <td>SA0297</td>\n",
       "      <td>-0.0359</td>\n",
       "      <td>0.0794</td>\n",
       "      <td>0.0037</td>\n",
       "      <td>2017-05-02 14:04:42.455</td>\n",
       "      <td>0 days 00:00:00.046000</td>\n",
       "    </tr>\n",
       "    <tr>\n",
       "      <th>2</th>\n",
       "      <td>1493733882500</td>\n",
       "      <td>SA0297</td>\n",
       "      <td>-0.2427</td>\n",
       "      <td>-0.0861</td>\n",
       "      <td>-0.0163</td>\n",
       "      <td>2017-05-02 14:04:42.500</td>\n",
       "      <td>0 days 00:00:00.045000</td>\n",
       "    </tr>\n",
       "    <tr>\n",
       "      <th>3</th>\n",
       "      <td>1493733883945</td>\n",
       "      <td>SA0297</td>\n",
       "      <td>-0.2888</td>\n",
       "      <td>0.0514</td>\n",
       "      <td>-0.0145</td>\n",
       "      <td>2017-05-02 14:04:43.945</td>\n",
       "      <td>0 days 00:00:01.445000</td>\n",
       "    </tr>\n",
       "    <tr>\n",
       "      <th>4</th>\n",
       "      <td>1493733883953</td>\n",
       "      <td>SA0297</td>\n",
       "      <td>-0.0413</td>\n",
       "      <td>-0.0184</td>\n",
       "      <td>-0.0105</td>\n",
       "      <td>2017-05-02 14:04:43.953</td>\n",
       "      <td>0 days 00:00:00.008000</td>\n",
       "    </tr>\n",
       "  </tbody>\n",
       "</table>\n",
       "</div>"
      ],
      "text/plain": [
       "            time     pid       x       y       z          time_formatted  \\\n",
       "0  1493733882409  SA0297  0.0758  0.0273 -0.0102 2017-05-02 14:04:42.409   \n",
       "1  1493733882455  SA0297 -0.0359  0.0794  0.0037 2017-05-02 14:04:42.455   \n",
       "2  1493733882500  SA0297 -0.2427 -0.0861 -0.0163 2017-05-02 14:04:42.500   \n",
       "3  1493733883945  SA0297 -0.2888  0.0514 -0.0145 2017-05-02 14:04:43.945   \n",
       "4  1493733883953  SA0297 -0.0413 -0.0184 -0.0105 2017-05-02 14:04:43.953   \n",
       "\n",
       "               time_diff  \n",
       "0                    NaT  \n",
       "1 0 days 00:00:00.046000  \n",
       "2 0 days 00:00:00.045000  \n",
       "3 0 days 00:00:01.445000  \n",
       "4 0 days 00:00:00.008000  "
      ]
     },
     "execution_count": 9,
     "metadata": {},
     "output_type": "execute_result"
    }
   ],
   "source": [
    "df.head()"
   ]
  },
  {
   "cell_type": "markdown",
   "id": "2078cd32",
   "metadata": {},
   "source": [
    "### Data Exploration"
   ]
  },
  {
   "cell_type": "code",
   "execution_count": 10,
   "id": "7ef25bba",
   "metadata": {
    "scrolled": true
   },
   "outputs": [
    {
     "data": {
      "text/html": [
       "<div>\n",
       "<style scoped>\n",
       "    .dataframe tbody tr th:only-of-type {\n",
       "        vertical-align: middle;\n",
       "    }\n",
       "\n",
       "    .dataframe tbody tr th {\n",
       "        vertical-align: top;\n",
       "    }\n",
       "\n",
       "    .dataframe thead th {\n",
       "        text-align: right;\n",
       "    }\n",
       "</style>\n",
       "<table border=\"1\" class=\"dataframe\">\n",
       "  <thead>\n",
       "    <tr style=\"text-align: right;\">\n",
       "      <th></th>\n",
       "      <th>timestamp</th>\n",
       "      <th>TAC_Reading</th>\n",
       "      <th>timestamp_for</th>\n",
       "      <th>diff</th>\n",
       "    </tr>\n",
       "  </thead>\n",
       "  <tbody>\n",
       "    <tr>\n",
       "      <th>count</th>\n",
       "      <td>7.150000e+02</td>\n",
       "      <td>715.000000</td>\n",
       "      <td>715</td>\n",
       "      <td>714</td>\n",
       "    </tr>\n",
       "    <tr>\n",
       "      <th>mean</th>\n",
       "      <td>1.493758e+09</td>\n",
       "      <td>0.046124</td>\n",
       "      <td>2017-05-02 20:51:29.310489600</td>\n",
       "      <td>0 days 00:02:01.282913165</td>\n",
       "    </tr>\n",
       "    <tr>\n",
       "      <th>min</th>\n",
       "      <td>1.493717e+09</td>\n",
       "      <td>-0.028308</td>\n",
       "      <td>2017-05-02 09:18:43</td>\n",
       "      <td>-2 days +22:03:39</td>\n",
       "    </tr>\n",
       "    <tr>\n",
       "      <th>25%</th>\n",
       "      <td>1.493732e+09</td>\n",
       "      <td>0.001872</td>\n",
       "      <td>2017-05-02 13:39:31</td>\n",
       "      <td>0 days 00:30:15</td>\n",
       "    </tr>\n",
       "    <tr>\n",
       "      <th>50%</th>\n",
       "      <td>1.493757e+09</td>\n",
       "      <td>0.020045</td>\n",
       "      <td>2017-05-02 20:33:13</td>\n",
       "      <td>0 days 00:30:32</td>\n",
       "    </tr>\n",
       "    <tr>\n",
       "      <th>75%</th>\n",
       "      <td>1.493782e+09</td>\n",
       "      <td>0.076462</td>\n",
       "      <td>2017-05-03 03:25:57</td>\n",
       "      <td>0 days 00:30:44</td>\n",
       "    </tr>\n",
       "    <tr>\n",
       "      <th>max</th>\n",
       "      <td>1.493811e+09</td>\n",
       "      <td>0.244715</td>\n",
       "      <td>2017-05-03 11:34:00</td>\n",
       "      <td>0 days 00:39:14</td>\n",
       "    </tr>\n",
       "    <tr>\n",
       "      <th>std</th>\n",
       "      <td>2.707992e+04</td>\n",
       "      <td>0.056917</td>\n",
       "      <td>NaN</td>\n",
       "      <td>0 days 03:06:53.651833751</td>\n",
       "    </tr>\n",
       "  </tbody>\n",
       "</table>\n",
       "</div>"
      ],
      "text/plain": [
       "          timestamp  TAC_Reading                  timestamp_for  \\\n",
       "count  7.150000e+02   715.000000                            715   \n",
       "mean   1.493758e+09     0.046124  2017-05-02 20:51:29.310489600   \n",
       "min    1.493717e+09    -0.028308            2017-05-02 09:18:43   \n",
       "25%    1.493732e+09     0.001872            2017-05-02 13:39:31   \n",
       "50%    1.493757e+09     0.020045            2017-05-02 20:33:13   \n",
       "75%    1.493782e+09     0.076462            2017-05-03 03:25:57   \n",
       "max    1.493811e+09     0.244715            2017-05-03 11:34:00   \n",
       "std    2.707992e+04     0.056917                            NaN   \n",
       "\n",
       "                            diff  \n",
       "count                        714  \n",
       "mean   0 days 00:02:01.282913165  \n",
       "min            -2 days +22:03:39  \n",
       "25%              0 days 00:30:15  \n",
       "50%              0 days 00:30:32  \n",
       "75%              0 days 00:30:44  \n",
       "max              0 days 00:39:14  \n",
       "std    0 days 03:06:53.651833751  "
      ]
     },
     "execution_count": 10,
     "metadata": {},
     "output_type": "execute_result"
    }
   ],
   "source": [
    "clean_tac_data.describe()"
   ]
  },
  {
   "cell_type": "code",
   "execution_count": 11,
   "id": "78c92354",
   "metadata": {},
   "outputs": [
    {
     "name": "stdout",
     "output_type": "stream",
     "text": [
      "minDate:  2017-05-02 09:18:43\n",
      "maxDate:  2017-05-03 11:34:00\n"
     ]
    }
   ],
   "source": [
    "print('minDate: ', clean_tac_data['timestamp_for'].min())\n",
    "print('maxDate: ', clean_tac_data['timestamp_for'].max())"
   ]
  },
  {
   "cell_type": "code",
   "execution_count": 12,
   "id": "a5ceb129",
   "metadata": {},
   "outputs": [
    {
     "data": {
      "text/plain": [
       "timestamp                  int64\n",
       "TAC_Reading              float64\n",
       "pid                       object\n",
       "timestamp_for     datetime64[ns]\n",
       "diff             timedelta64[ns]\n",
       "dtype: object"
      ]
     },
     "execution_count": 12,
     "metadata": {},
     "output_type": "execute_result"
    }
   ],
   "source": [
    "clean_tac_data.dtypes"
   ]
  },
  {
   "cell_type": "code",
   "execution_count": 13,
   "id": "a3768202",
   "metadata": {},
   "outputs": [
    {
     "data": {
      "image/png": "[encoded data removed]",
      "text/plain": [
       "<Figure size 640x480 with 1 Axes>"
      ]
     },
     "metadata": {},
     "output_type": "display_data"
    }
   ],
   "source": [
    "sns.barplot(data = clean_tac_data, x = 'pid', y = 'TAC_Reading', palette='pastel')\n",
    "plt.axhline(y = 0.08, linestyle = '--', label = 'Threshold')\n",
    "\n",
    "plt.xticks(rotation = 45)\n",
    "plt.xlabel('Participants')\n",
    "plt.ylabel('TAC Readings')\n",
    "plt.legend()\n",
    "plt.show()"
   ]
  },
  {
   "cell_type": "code",
   "execution_count": 14,
   "id": "40ea7d50",
   "metadata": {
    "scrolled": false
   },
   "outputs": [
    {
     "data": {
      "image/png": "[encoded data removed]",
      "text/plain": [
       "<Figure size 640x480 with 1 Axes>"
      ]
     },
     "metadata": {},
     "output_type": "display_data"
    },
    {
     "data": {
      "image/png": "[encoded data removed]",
      "text/plain": [
       "<Figure size 640x480 with 1 Axes>"
      ]
     },
     "metadata": {},
     "output_type": "display_data"
    }
   ],
   "source": [
    "clean_tac_data['hour'] = clean_tac_data['timestamp_for'].dt.hour\n",
    "clean_tac_data['day'] = clean_tac_data['timestamp_for'].dt.day\n",
    "\n",
    "plt.subplot(2, 1, 1)\n",
    "sns.kdeplot(clean_tac_data[clean_tac_data['day'] == 2]['hour'], fill = True)\n",
    "sns.kdeplot(clean_tac_data[clean_tac_data['day'] == 3]['hour'], fill = True)\n",
    "plt.title('Distribution of TAC Readings by Hour')\n",
    "plt.xlabel('Hour of the Day')\n",
    "plt.ylabel('Density')\n",
    "plt.legend(['May 2nd', 'May 3rd'])\n",
    "plt.xticks(range(0, 24, 4))\n",
    "plt.xlim(0,23)\n",
    "plt.show()\n",
    "\n",
    "\n",
    "plt.subplot(2, 1, 2)\n",
    "sns.kdeplot(clean_tac_data[clean_tac_data['TAC_Reading'] < 0.08]['TAC_Reading'], fill=True, label = 'Normal Drinking', color='orange')\n",
    "sns.kdeplot(clean_tac_data[clean_tac_data['TAC_Reading'] >= 0.08]['TAC_Reading'], fill=True, label = 'Heavy Drinking', color=(1, 0.5, 0.5))\n",
    "plt.legend()\n",
    "plt.title('Distribution of the TAC readings')\n",
    "plt.xlabel('TAC Readings')\n",
    "plt.ylim(0,30)\n",
    "plt.show()\n"
   ]
  },
  {
   "cell_type": "code",
   "execution_count": 15,
   "id": "9921f61d",
   "metadata": {},
   "outputs": [
    {
     "name": "stdout",
     "output_type": "stream",
     "text": [
      "            min  max\n",
      "date                \n",
      "2017-05-02    9   23\n",
      "2017-05-03    0   11\n"
     ]
    }
   ],
   "source": [
    "clean_tac_data['timestamp_for'] = pd.to_datetime(clean_tac_data['timestamp_for'])\n",
    "\n",
    "# Extract the date and hour separately\n",
    "clean_tac_data['date'] = clean_tac_data['timestamp_for'].dt.date\n",
    "clean_tac_data['hour'] = clean_tac_data['timestamp_for'].dt.hour\n",
    "\n",
    "# Group by date and find the minimum and maximum hour for each date\n",
    "day_start_end_times = clean_tac_data.groupby('date')['hour'].agg(['min', 'max'])\n",
    "\n",
    "# Print the results\n",
    "print(day_start_end_times)\n"
   ]
  },
  {
   "cell_type": "markdown",
   "id": "be1c8f88",
   "metadata": {},
   "source": [
    "### Reducing the records"
   ]
  },
  {
   "cell_type": "code",
   "execution_count": 16,
   "id": "1f4c08a3",
   "metadata": {},
   "outputs": [
    {
     "name": "stdout",
     "output_type": "stream",
     "text": [
      "Rows: 14057565, Columns: 4\n"
     ]
    },
    {
     "data": {
      "text/html": [
       "<div>\n",
       "<style scoped>\n",
       "    .dataframe tbody tr th:only-of-type {\n",
       "        vertical-align: middle;\n",
       "    }\n",
       "\n",
       "    .dataframe tbody tr th {\n",
       "        vertical-align: top;\n",
       "    }\n",
       "\n",
       "    .dataframe thead th {\n",
       "        text-align: right;\n",
       "    }\n",
       "</style>\n",
       "<table border=\"1\" class=\"dataframe\">\n",
       "  <thead>\n",
       "    <tr style=\"text-align: right;\">\n",
       "      <th></th>\n",
       "      <th>x</th>\n",
       "      <th>y</th>\n",
       "      <th>z</th>\n",
       "      <th>time_formatted</th>\n",
       "    </tr>\n",
       "  </thead>\n",
       "  <tbody>\n",
       "    <tr>\n",
       "      <th>0</th>\n",
       "      <td>0.0758</td>\n",
       "      <td>0.0273</td>\n",
       "      <td>-0.0102</td>\n",
       "      <td>2017-05-02 14:04:42.409</td>\n",
       "    </tr>\n",
       "    <tr>\n",
       "      <th>1</th>\n",
       "      <td>-0.0359</td>\n",
       "      <td>0.0794</td>\n",
       "      <td>0.0037</td>\n",
       "      <td>2017-05-02 14:04:42.455</td>\n",
       "    </tr>\n",
       "    <tr>\n",
       "      <th>2</th>\n",
       "      <td>-0.2427</td>\n",
       "      <td>-0.0861</td>\n",
       "      <td>-0.0163</td>\n",
       "      <td>2017-05-02 14:04:42.500</td>\n",
       "    </tr>\n",
       "    <tr>\n",
       "      <th>3</th>\n",
       "      <td>-0.2888</td>\n",
       "      <td>0.0514</td>\n",
       "      <td>-0.0145</td>\n",
       "      <td>2017-05-02 14:04:43.945</td>\n",
       "    </tr>\n",
       "    <tr>\n",
       "      <th>4</th>\n",
       "      <td>-0.0413</td>\n",
       "      <td>-0.0184</td>\n",
       "      <td>-0.0105</td>\n",
       "      <td>2017-05-02 14:04:43.953</td>\n",
       "    </tr>\n",
       "  </tbody>\n",
       "</table>\n",
       "</div>"
      ],
      "text/plain": [
       "        x       y       z          time_formatted\n",
       "0  0.0758  0.0273 -0.0102 2017-05-02 14:04:42.409\n",
       "1 -0.0359  0.0794  0.0037 2017-05-02 14:04:42.455\n",
       "2 -0.2427 -0.0861 -0.0163 2017-05-02 14:04:42.500\n",
       "3 -0.2888  0.0514 -0.0145 2017-05-02 14:04:43.945\n",
       "4 -0.0413 -0.0184 -0.0105 2017-05-02 14:04:43.953"
      ]
     },
     "execution_count": 16,
     "metadata": {},
     "output_type": "execute_result"
    }
   ],
   "source": [
    "df = pd.read_csv('all_accelerometer_data_pids_13.csv')\n",
    "\n",
    "# Removing empty records\n",
    "df = df[df['time'] != 0]\n",
    "df = df.reset_index(drop = True)\n",
    "\n",
    "df['time_formatted'] = pd.to_datetime(df['time'], unit = 'ms')\n",
    "df = df.drop(['time', 'pid'], axis = 1)\n",
    "\n",
    "print(f'Rows: {df.shape[0]}, Columns: {df.shape[1]}')\n",
    "df.head()\n"
   ]
  },
  {
   "cell_type": "code",
   "execution_count": 17,
   "id": "2400c6d8",
   "metadata": {},
   "outputs": [
    {
     "name": "stdout",
     "output_type": "stream",
     "text": [
      "Rows: 1589, Columns: 4\n"
     ]
    },
    {
     "data": {
      "text/html": [
       "<div>\n",
       "<style scoped>\n",
       "    .dataframe tbody tr th:only-of-type {\n",
       "        vertical-align: middle;\n",
       "    }\n",
       "\n",
       "    .dataframe tbody tr th {\n",
       "        vertical-align: top;\n",
       "    }\n",
       "\n",
       "    .dataframe thead th {\n",
       "        text-align: right;\n",
       "    }\n",
       "</style>\n",
       "<table border=\"1\" class=\"dataframe\">\n",
       "  <thead>\n",
       "    <tr style=\"text-align: right;\">\n",
       "      <th></th>\n",
       "      <th>time_formatted</th>\n",
       "      <th>x</th>\n",
       "      <th>y</th>\n",
       "      <th>z</th>\n",
       "    </tr>\n",
       "  </thead>\n",
       "  <tbody>\n",
       "    <tr>\n",
       "      <th>0</th>\n",
       "      <td>2017-05-02 14:04:00</td>\n",
       "      <td>0.001855</td>\n",
       "      <td>0.000782</td>\n",
       "      <td>-0.001675</td>\n",
       "    </tr>\n",
       "    <tr>\n",
       "      <th>1</th>\n",
       "      <td>2017-05-02 14:05:00</td>\n",
       "      <td>0.000190</td>\n",
       "      <td>0.000089</td>\n",
       "      <td>-0.003093</td>\n",
       "    </tr>\n",
       "    <tr>\n",
       "      <th>2</th>\n",
       "      <td>2017-05-02 14:06:00</td>\n",
       "      <td>-0.011238</td>\n",
       "      <td>0.023635</td>\n",
       "      <td>0.000742</td>\n",
       "    </tr>\n",
       "    <tr>\n",
       "      <th>3</th>\n",
       "      <td>2017-05-02 14:07:00</td>\n",
       "      <td>0.002123</td>\n",
       "      <td>-0.000780</td>\n",
       "      <td>-0.034414</td>\n",
       "    </tr>\n",
       "    <tr>\n",
       "      <th>4</th>\n",
       "      <td>2017-05-02 14:08:00</td>\n",
       "      <td>0.002896</td>\n",
       "      <td>-0.000784</td>\n",
       "      <td>-0.005502</td>\n",
       "    </tr>\n",
       "  </tbody>\n",
       "</table>\n",
       "</div>"
      ],
      "text/plain": [
       "       time_formatted         x         y         z\n",
       "0 2017-05-02 14:04:00  0.001855  0.000782 -0.001675\n",
       "1 2017-05-02 14:05:00  0.000190  0.000089 -0.003093\n",
       "2 2017-05-02 14:06:00 -0.011238  0.023635  0.000742\n",
       "3 2017-05-02 14:07:00  0.002123 -0.000780 -0.034414\n",
       "4 2017-05-02 14:08:00  0.002896 -0.000784 -0.005502"
      ]
     },
     "execution_count": 17,
     "metadata": {},
     "output_type": "execute_result"
    }
   ],
   "source": [
    "df['time_formatted'] = df['time_formatted'].dt.floor('60s')\n",
    "df = df.groupby('time_formatted').mean().reset_index()\n",
    "\n",
    "print(f'Rows: {df.shape[0]}, Columns: {df.shape[1]}')\n",
    "df.head()"
   ]
  },
  {
   "cell_type": "markdown",
   "id": "276024b6",
   "metadata": {},
   "source": [
    "### Merging both dataframes"
   ]
  },
  {
   "cell_type": "code",
   "execution_count": 18,
   "id": "203dc4fb",
   "metadata": {},
   "outputs": [
    {
     "name": "stdout",
     "output_type": "stream",
     "text": [
      "(1589, 4)\n",
      "Index(['time_formatted', 'x', 'y', 'z'], dtype='object')\n"
     ]
    }
   ],
   "source": [
    "print(df.shape)\n",
    "print(df.columns)"
   ]
  },
  {
   "cell_type": "code",
   "execution_count": 19,
   "id": "0b55220d",
   "metadata": {
    "scrolled": true
   },
   "outputs": [
    {
     "name": "stdout",
     "output_type": "stream",
     "text": [
      "(715, 8)\n",
      "Index(['timestamp', 'TAC_Reading', 'pid', 'timestamp_for', 'diff', 'hour',\n",
      "       'day', 'date'],\n",
      "      dtype='object')\n"
     ]
    }
   ],
   "source": [
    "print(clean_tac_data.shape)\n",
    "print(clean_tac_data.columns)"
   ]
  },
  {
   "cell_type": "code",
   "execution_count": 20,
   "id": "5fa3acc2",
   "metadata": {},
   "outputs": [
    {
     "data": {
      "text/html": [
       "<div>\n",
       "<style scoped>\n",
       "    .dataframe tbody tr th:only-of-type {\n",
       "        vertical-align: middle;\n",
       "    }\n",
       "\n",
       "    .dataframe tbody tr th {\n",
       "        vertical-align: top;\n",
       "    }\n",
       "\n",
       "    .dataframe thead th {\n",
       "        text-align: right;\n",
       "    }\n",
       "</style>\n",
       "<table border=\"1\" class=\"dataframe\">\n",
       "  <thead>\n",
       "    <tr style=\"text-align: right;\">\n",
       "      <th></th>\n",
       "      <th>time_formatted</th>\n",
       "      <th>TAC_Reading</th>\n",
       "    </tr>\n",
       "  </thead>\n",
       "  <tbody>\n",
       "    <tr>\n",
       "      <th>0</th>\n",
       "      <td>2017-05-02 09:18:00</td>\n",
       "      <td>-0.010229</td>\n",
       "    </tr>\n",
       "    <tr>\n",
       "      <th>1</th>\n",
       "      <td>2017-05-02 09:37:00</td>\n",
       "      <td>0.000043</td>\n",
       "    </tr>\n",
       "    <tr>\n",
       "      <th>2</th>\n",
       "      <td>2017-05-02 09:49:00</td>\n",
       "      <td>-0.002512</td>\n",
       "    </tr>\n",
       "    <tr>\n",
       "      <th>3</th>\n",
       "      <td>2017-05-02 09:51:00</td>\n",
       "      <td>-0.000482</td>\n",
       "    </tr>\n",
       "    <tr>\n",
       "      <th>4</th>\n",
       "      <td>2017-05-02 09:54:00</td>\n",
       "      <td>0.003249</td>\n",
       "    </tr>\n",
       "  </tbody>\n",
       "</table>\n",
       "</div>"
      ],
      "text/plain": [
       "       time_formatted  TAC_Reading\n",
       "0 2017-05-02 09:18:00    -0.010229\n",
       "1 2017-05-02 09:37:00     0.000043\n",
       "2 2017-05-02 09:49:00    -0.002512\n",
       "3 2017-05-02 09:51:00    -0.000482\n",
       "4 2017-05-02 09:54:00     0.003249"
      ]
     },
     "execution_count": 20,
     "metadata": {},
     "output_type": "execute_result"
    }
   ],
   "source": [
    "clean_tac_data['time_formatted'] = clean_tac_data['timestamp_for']\n",
    "clean_tac_data = clean_tac_data.drop(['timestamp', 'hour', 'day', 'date', 'timestamp_for', 'diff', 'pid'], axis = 1)\n",
    "\n",
    "clean_tac_data['time_formatted'] = clean_tac_data['time_formatted'].dt.floor('60s')\n",
    "clean_tac_data = clean_tac_data.groupby('time_formatted').mean().reset_index()\n",
    "\n",
    "clean_tac_data.head()"
   ]
  },
  {
   "cell_type": "code",
   "execution_count": 21,
   "id": "3920e9ad",
   "metadata": {},
   "outputs": [
    {
     "data": {
      "text/html": [
       "<div>\n",
       "<style scoped>\n",
       "    .dataframe tbody tr th:only-of-type {\n",
       "        vertical-align: middle;\n",
       "    }\n",
       "\n",
       "    .dataframe tbody tr th {\n",
       "        vertical-align: top;\n",
       "    }\n",
       "\n",
       "    .dataframe thead th {\n",
       "        text-align: right;\n",
       "    }\n",
       "</style>\n",
       "<table border=\"1\" class=\"dataframe\">\n",
       "  <thead>\n",
       "    <tr style=\"text-align: right;\">\n",
       "      <th></th>\n",
       "      <th>time_formatted</th>\n",
       "      <th>x</th>\n",
       "      <th>y</th>\n",
       "      <th>z</th>\n",
       "      <th>TAC_Reading</th>\n",
       "    </tr>\n",
       "  </thead>\n",
       "  <tbody>\n",
       "    <tr>\n",
       "      <th>0</th>\n",
       "      <td>2017-05-02 14:04:00</td>\n",
       "      <td>0.001855</td>\n",
       "      <td>0.000782</td>\n",
       "      <td>-0.001675</td>\n",
       "      <td>-0.003032</td>\n",
       "    </tr>\n",
       "    <tr>\n",
       "      <th>1</th>\n",
       "      <td>2017-05-02 14:05:00</td>\n",
       "      <td>0.000190</td>\n",
       "      <td>0.000089</td>\n",
       "      <td>-0.003093</td>\n",
       "      <td>-0.000132</td>\n",
       "    </tr>\n",
       "    <tr>\n",
       "      <th>2</th>\n",
       "      <td>2017-05-02 14:06:00</td>\n",
       "      <td>-0.011238</td>\n",
       "      <td>0.023635</td>\n",
       "      <td>0.000742</td>\n",
       "      <td>NaN</td>\n",
       "    </tr>\n",
       "    <tr>\n",
       "      <th>3</th>\n",
       "      <td>2017-05-02 14:07:00</td>\n",
       "      <td>0.002123</td>\n",
       "      <td>-0.000780</td>\n",
       "      <td>-0.034414</td>\n",
       "      <td>NaN</td>\n",
       "    </tr>\n",
       "    <tr>\n",
       "      <th>4</th>\n",
       "      <td>2017-05-02 14:08:00</td>\n",
       "      <td>0.002896</td>\n",
       "      <td>-0.000784</td>\n",
       "      <td>-0.005502</td>\n",
       "      <td>NaN</td>\n",
       "    </tr>\n",
       "  </tbody>\n",
       "</table>\n",
       "</div>"
      ],
      "text/plain": [
       "       time_formatted         x         y         z  TAC_Reading\n",
       "0 2017-05-02 14:04:00  0.001855  0.000782 -0.001675    -0.003032\n",
       "1 2017-05-02 14:05:00  0.000190  0.000089 -0.003093    -0.000132\n",
       "2 2017-05-02 14:06:00 -0.011238  0.023635  0.000742          NaN\n",
       "3 2017-05-02 14:07:00  0.002123 -0.000780 -0.034414          NaN\n",
       "4 2017-05-02 14:08:00  0.002896 -0.000784 -0.005502          NaN"
      ]
     },
     "execution_count": 21,
     "metadata": {},
     "output_type": "execute_result"
    }
   ],
   "source": [
    "linear_final_df = df.merge(clean_tac_data, on='time_formatted', how='left')\n",
    "linear_final_df.head()"
   ]
  },
  {
   "cell_type": "code",
   "execution_count": 22,
   "id": "6daa34cd",
   "metadata": {
    "scrolled": false
   },
   "outputs": [
    {
     "data": {
      "image/png": "[encoded data removed]",
      "text/plain": [
       "<Figure size 500x500 with 1 Axes>"
      ]
     },
     "metadata": {},
     "output_type": "display_data"
    }
   ],
   "source": [
    "sns.catplot(linear_final_df[~linear_final_df['TAC_Reading'].isnull()]['TAC_Reading'], color=[(1.0, 0.627, 0.478) if x < 0.08 else (1, 0.5, 0.5) for x in linear_final_df[~linear_final_df['TAC_Reading'].isnull()]['TAC_Reading']])\n",
    "plt.axhline(y = 0.08, linestyle = '--',)\n",
    "plt.yticks([0, 0.04, 0.08, 0.12, 0.16, 0.20, 0.24])\n",
    "plt.ylabel('TAC readings')\n",
    "plt.title('Distribution of the TAC readings - Before prediction')\n",
    "\n",
    "plt.show()"
   ]
  },
  {
   "cell_type": "code",
   "execution_count": 23,
   "id": "c0f0bdd1",
   "metadata": {
    "scrolled": false
   },
   "outputs": [
    {
     "name": "stdout",
     "output_type": "stream",
     "text": [
      "Number of Missing values:  1171\n"
     ]
    }
   ],
   "source": [
    "print('Number of Missing values: ', linear_final_df.TAC_Reading.isna().sum())"
   ]
  },
  {
   "cell_type": "markdown",
   "id": "7c8a525d",
   "metadata": {},
   "source": [
    "### Predicting missing values using linear regression"
   ]
  },
  {
   "cell_type": "code",
   "execution_count": 24,
   "id": "16d59205",
   "metadata": {},
   "outputs": [
    {
     "data": {
      "text/html": [
       "<div>\n",
       "<style scoped>\n",
       "    .dataframe tbody tr th:only-of-type {\n",
       "        vertical-align: middle;\n",
       "    }\n",
       "\n",
       "    .dataframe tbody tr th {\n",
       "        vertical-align: top;\n",
       "    }\n",
       "\n",
       "    .dataframe thead th {\n",
       "        text-align: right;\n",
       "    }\n",
       "</style>\n",
       "<table border=\"1\" class=\"dataframe\">\n",
       "  <thead>\n",
       "    <tr style=\"text-align: right;\">\n",
       "      <th></th>\n",
       "      <th>time_formatted</th>\n",
       "      <th>x</th>\n",
       "      <th>y</th>\n",
       "      <th>z</th>\n",
       "      <th>TAC_Reading</th>\n",
       "      <th>year</th>\n",
       "      <th>month</th>\n",
       "      <th>day</th>\n",
       "      <th>hour</th>\n",
       "      <th>minute</th>\n",
       "    </tr>\n",
       "  </thead>\n",
       "  <tbody>\n",
       "    <tr>\n",
       "      <th>0</th>\n",
       "      <td>2017-05-02 14:04:00</td>\n",
       "      <td>0.001855</td>\n",
       "      <td>0.000782</td>\n",
       "      <td>-0.001675</td>\n",
       "      <td>-0.003032</td>\n",
       "      <td>2017</td>\n",
       "      <td>5</td>\n",
       "      <td>2</td>\n",
       "      <td>14</td>\n",
       "      <td>4</td>\n",
       "    </tr>\n",
       "    <tr>\n",
       "      <th>1</th>\n",
       "      <td>2017-05-02 14:05:00</td>\n",
       "      <td>0.000190</td>\n",
       "      <td>0.000089</td>\n",
       "      <td>-0.003093</td>\n",
       "      <td>-0.000132</td>\n",
       "      <td>2017</td>\n",
       "      <td>5</td>\n",
       "      <td>2</td>\n",
       "      <td>14</td>\n",
       "      <td>5</td>\n",
       "    </tr>\n",
       "    <tr>\n",
       "      <th>2</th>\n",
       "      <td>2017-05-02 14:06:00</td>\n",
       "      <td>-0.011238</td>\n",
       "      <td>0.023635</td>\n",
       "      <td>0.000742</td>\n",
       "      <td>NaN</td>\n",
       "      <td>2017</td>\n",
       "      <td>5</td>\n",
       "      <td>2</td>\n",
       "      <td>14</td>\n",
       "      <td>6</td>\n",
       "    </tr>\n",
       "    <tr>\n",
       "      <th>3</th>\n",
       "      <td>2017-05-02 14:07:00</td>\n",
       "      <td>0.002123</td>\n",
       "      <td>-0.000780</td>\n",
       "      <td>-0.034414</td>\n",
       "      <td>NaN</td>\n",
       "      <td>2017</td>\n",
       "      <td>5</td>\n",
       "      <td>2</td>\n",
       "      <td>14</td>\n",
       "      <td>7</td>\n",
       "    </tr>\n",
       "    <tr>\n",
       "      <th>4</th>\n",
       "      <td>2017-05-02 14:08:00</td>\n",
       "      <td>0.002896</td>\n",
       "      <td>-0.000784</td>\n",
       "      <td>-0.005502</td>\n",
       "      <td>NaN</td>\n",
       "      <td>2017</td>\n",
       "      <td>5</td>\n",
       "      <td>2</td>\n",
       "      <td>14</td>\n",
       "      <td>8</td>\n",
       "    </tr>\n",
       "  </tbody>\n",
       "</table>\n",
       "</div>"
      ],
      "text/plain": [
       "       time_formatted         x         y         z  TAC_Reading  year  month  \\\n",
       "0 2017-05-02 14:04:00  0.001855  0.000782 -0.001675    -0.003032  2017      5   \n",
       "1 2017-05-02 14:05:00  0.000190  0.000089 -0.003093    -0.000132  2017      5   \n",
       "2 2017-05-02 14:06:00 -0.011238  0.023635  0.000742          NaN  2017      5   \n",
       "3 2017-05-02 14:07:00  0.002123 -0.000780 -0.034414          NaN  2017      5   \n",
       "4 2017-05-02 14:08:00  0.002896 -0.000784 -0.005502          NaN  2017      5   \n",
       "\n",
       "   day  hour  minute  \n",
       "0    2    14       4  \n",
       "1    2    14       5  \n",
       "2    2    14       6  \n",
       "3    2    14       7  \n",
       "4    2    14       8  "
      ]
     },
     "execution_count": 24,
     "metadata": {},
     "output_type": "execute_result"
    }
   ],
   "source": [
    "linear_final_df['year'] = linear_final_df['time_formatted'].dt.year\n",
    "linear_final_df['month'] = linear_final_df['time_formatted'].dt.month\n",
    "linear_final_df['day'] = linear_final_df['time_formatted'].dt.day\n",
    "linear_final_df['hour'] = linear_final_df['time_formatted'].dt.hour\n",
    "linear_final_df['minute'] = linear_final_df['time_formatted'].dt.minute\n",
    "linear_final_df.head()"
   ]
  },
  {
   "cell_type": "code",
   "execution_count": 25,
   "id": "184e5200",
   "metadata": {},
   "outputs": [],
   "source": [
    "missing_values = linear_final_df['TAC_Reading'].isnull()\n",
    "X = linear_final_df[~missing_values][['year', 'month', 'day', 'hour', 'minute', 'x', 'y', 'z']]\n",
    "y = linear_final_df[~missing_values]['TAC_Reading']"
   ]
  },
  {
   "cell_type": "code",
   "execution_count": 26,
   "id": "3c98865a",
   "metadata": {},
   "outputs": [
    {
     "data": {
      "text/html": [
       "<style>#sk-container-id-1 {color: black;background-color: white;}#sk-container-id-1 pre{padding: 0;}#sk-container-id-1 div.sk-toggleable {background-color: white;}#sk-container-id-1 label.sk-toggleable__label {cursor: pointer;display: block;width: 100%;margin-bottom: 0;padding: 0.3em;box-sizing: border-box;text-align: center;}#sk-container-id-1 label.sk-toggleable__label-arrow:before {content: \"▸\";float: left;margin-right: 0.25em;color: #696969;}#sk-container-id-1 label.sk-toggleable__label-arrow:hover:before {color: black;}#sk-container-id-1 div.sk-estimator:hover label.sk-toggleable__label-arrow:before {color: black;}#sk-container-id-1 div.sk-toggleable__content {max-height: 0;max-width: 0;overflow: hidden;text-align: left;background-color: #f0f8ff;}#sk-container-id-1 div.sk-toggleable__content pre {margin: 0.2em;color: black;border-radius: 0.25em;background-color: #f0f8ff;}#sk-container-id-1 input.sk-toggleable__control:checked~div.sk-toggleable__content {max-height: 200px;max-width: 100%;overflow: auto;}#sk-container-id-1 input.sk-toggleable__control:checked~label.sk-toggleable__label-arrow:before {content: \"▾\";}#sk-container-id-1 div.sk-estimator input.sk-toggleable__control:checked~label.sk-toggleable__label {background-color: #d4ebff;}#sk-container-id-1 div.sk-label input.sk-toggleable__control:checked~label.sk-toggleable__label {background-color: #d4ebff;}#sk-container-id-1 input.sk-hidden--visually {border: 0;clip: rect(1px 1px 1px 1px);clip: rect(1px, 1px, 1px, 1px);height: 1px;margin: -1px;overflow: hidden;padding: 0;position: absolute;width: 1px;}#sk-container-id-1 div.sk-estimator {font-family: monospace;background-color: #f0f8ff;border: 1px dotted black;border-radius: 0.25em;box-sizing: border-box;margin-bottom: 0.5em;}#sk-container-id-1 div.sk-estimator:hover {background-color: #d4ebff;}#sk-container-id-1 div.sk-parallel-item::after {content: \"\";width: 100%;border-bottom: 1px solid gray;flex-grow: 1;}#sk-container-id-1 div.sk-label:hover label.sk-toggleable__label {background-color: #d4ebff;}#sk-container-id-1 div.sk-serial::before {content: \"\";position: absolute;border-left: 1px solid gray;box-sizing: border-box;top: 0;bottom: 0;left: 50%;z-index: 0;}#sk-container-id-1 div.sk-serial {display: flex;flex-direction: column;align-items: center;background-color: white;padding-right: 0.2em;padding-left: 0.2em;position: relative;}#sk-container-id-1 div.sk-item {position: relative;z-index: 1;}#sk-container-id-1 div.sk-parallel {display: flex;align-items: stretch;justify-content: center;background-color: white;position: relative;}#sk-container-id-1 div.sk-item::before, #sk-container-id-1 div.sk-parallel-item::before {content: \"\";position: absolute;border-left: 1px solid gray;box-sizing: border-box;top: 0;bottom: 0;left: 50%;z-index: -1;}#sk-container-id-1 div.sk-parallel-item {display: flex;flex-direction: column;z-index: 1;position: relative;background-color: white;}#sk-container-id-1 div.sk-parallel-item:first-child::after {align-self: flex-end;width: 50%;}#sk-container-id-1 div.sk-parallel-item:last-child::after {align-self: flex-start;width: 50%;}#sk-container-id-1 div.sk-parallel-item:only-child::after {width: 0;}#sk-container-id-1 div.sk-dashed-wrapped {border: 1px dashed gray;margin: 0 0.4em 0.5em 0.4em;box-sizing: border-box;padding-bottom: 0.4em;background-color: white;}#sk-container-id-1 div.sk-label label {font-family: monospace;font-weight: bold;display: inline-block;line-height: 1.2em;}#sk-container-id-1 div.sk-label-container {text-align: center;}#sk-container-id-1 div.sk-container {/* jupyter's `normalize.less` sets `[hidden] { display: none; }` but bootstrap.min.css set `[hidden] { display: none !important; }` so we also need the `!important` here to be able to override the default hidden behavior on the sphinx rendered scikit-learn.org. See: https://github.com/scikit-learn/scikit-learn/issues/21755 */display: inline-block !important;position: relative;}#sk-container-id-1 div.sk-text-repr-fallback {display: none;}</style><div id=\"sk-container-id-1\" class=\"sk-top-container\"><div class=\"sk-text-repr-fallback\"><pre>LinearRegression()</pre><b>In a Jupyter environment, please rerun this cell to show the HTML representation or trust the notebook. <br />On GitHub, the HTML representation is unable to render, please try loading this page with nbviewer.org.</b></div><div class=\"sk-container\" hidden><div class=\"sk-item\"><div class=\"sk-estimator sk-toggleable\"><input class=\"sk-toggleable__control sk-hidden--visually\" id=\"sk-estimator-id-1\" type=\"checkbox\" checked><label for=\"sk-estimator-id-1\" class=\"sk-toggleable__label sk-toggleable__label-arrow\">LinearRegression</label><div class=\"sk-toggleable__content\"><pre>LinearRegression()</pre></div></div></div></div></div>"
      ],
      "text/plain": [
       "LinearRegression()"
      ]
     },
     "execution_count": 26,
     "metadata": {},
     "output_type": "execute_result"
    }
   ],
   "source": [
    "linear_model = LinearRegression()\n",
    "linear_model.fit(X, y)"
   ]
  },
  {
   "cell_type": "code",
   "execution_count": 27,
   "id": "d64b7086",
   "metadata": {},
   "outputs": [
    {
     "name": "stdout",
     "output_type": "stream",
     "text": [
      "Number of Missing values:  0\n"
     ]
    }
   ],
   "source": [
    "preds = linear_model.predict(linear_final_df[missing_values][['year', 'month', 'day', 'hour', 'minute', 'x', 'y', 'z']])\n",
    "linear_final_df.loc[missing_values, 'TAC_Reading'] = preds\n",
    "print('Number of Missing values: ', linear_final_df.TAC_Reading.isna().sum())"
   ]
  },
  {
   "cell_type": "code",
   "execution_count": 28,
   "id": "a305df7a",
   "metadata": {
    "scrolled": false
   },
   "outputs": [
    {
     "data": {
      "text/html": [
       "<div>\n",
       "<style scoped>\n",
       "    .dataframe tbody tr th:only-of-type {\n",
       "        vertical-align: middle;\n",
       "    }\n",
       "\n",
       "    .dataframe tbody tr th {\n",
       "        vertical-align: top;\n",
       "    }\n",
       "\n",
       "    .dataframe thead th {\n",
       "        text-align: right;\n",
       "    }\n",
       "</style>\n",
       "<table border=\"1\" class=\"dataframe\">\n",
       "  <thead>\n",
       "    <tr style=\"text-align: right;\">\n",
       "      <th></th>\n",
       "      <th>time_formatted</th>\n",
       "      <th>x</th>\n",
       "      <th>y</th>\n",
       "      <th>z</th>\n",
       "      <th>TAC_Reading</th>\n",
       "      <th>year</th>\n",
       "      <th>month</th>\n",
       "      <th>day</th>\n",
       "      <th>hour</th>\n",
       "      <th>minute</th>\n",
       "    </tr>\n",
       "  </thead>\n",
       "  <tbody>\n",
       "    <tr>\n",
       "      <th>0</th>\n",
       "      <td>2017-05-02 14:04:00</td>\n",
       "      <td>0.001855</td>\n",
       "      <td>0.000782</td>\n",
       "      <td>-0.001675</td>\n",
       "      <td>-0.003032</td>\n",
       "      <td>2017</td>\n",
       "      <td>5</td>\n",
       "      <td>2</td>\n",
       "      <td>14</td>\n",
       "      <td>4</td>\n",
       "    </tr>\n",
       "    <tr>\n",
       "      <th>1</th>\n",
       "      <td>2017-05-02 14:05:00</td>\n",
       "      <td>0.000190</td>\n",
       "      <td>0.000089</td>\n",
       "      <td>-0.003093</td>\n",
       "      <td>-0.000132</td>\n",
       "      <td>2017</td>\n",
       "      <td>5</td>\n",
       "      <td>2</td>\n",
       "      <td>14</td>\n",
       "      <td>5</td>\n",
       "    </tr>\n",
       "    <tr>\n",
       "      <th>2</th>\n",
       "      <td>2017-05-02 14:06:00</td>\n",
       "      <td>-0.011238</td>\n",
       "      <td>0.023635</td>\n",
       "      <td>0.000742</td>\n",
       "      <td>0.082017</td>\n",
       "      <td>2017</td>\n",
       "      <td>5</td>\n",
       "      <td>2</td>\n",
       "      <td>14</td>\n",
       "      <td>6</td>\n",
       "    </tr>\n",
       "    <tr>\n",
       "      <th>3</th>\n",
       "      <td>2017-05-02 14:07:00</td>\n",
       "      <td>0.002123</td>\n",
       "      <td>-0.000780</td>\n",
       "      <td>-0.034414</td>\n",
       "      <td>0.081858</td>\n",
       "      <td>2017</td>\n",
       "      <td>5</td>\n",
       "      <td>2</td>\n",
       "      <td>14</td>\n",
       "      <td>7</td>\n",
       "    </tr>\n",
       "    <tr>\n",
       "      <th>4</th>\n",
       "      <td>2017-05-02 14:08:00</td>\n",
       "      <td>0.002896</td>\n",
       "      <td>-0.000784</td>\n",
       "      <td>-0.005502</td>\n",
       "      <td>0.081706</td>\n",
       "      <td>2017</td>\n",
       "      <td>5</td>\n",
       "      <td>2</td>\n",
       "      <td>14</td>\n",
       "      <td>8</td>\n",
       "    </tr>\n",
       "  </tbody>\n",
       "</table>\n",
       "</div>"
      ],
      "text/plain": [
       "       time_formatted         x         y         z  TAC_Reading  year  month  \\\n",
       "0 2017-05-02 14:04:00  0.001855  0.000782 -0.001675    -0.003032  2017      5   \n",
       "1 2017-05-02 14:05:00  0.000190  0.000089 -0.003093    -0.000132  2017      5   \n",
       "2 2017-05-02 14:06:00 -0.011238  0.023635  0.000742     0.082017  2017      5   \n",
       "3 2017-05-02 14:07:00  0.002123 -0.000780 -0.034414     0.081858  2017      5   \n",
       "4 2017-05-02 14:08:00  0.002896 -0.000784 -0.005502     0.081706  2017      5   \n",
       "\n",
       "   day  hour  minute  \n",
       "0    2    14       4  \n",
       "1    2    14       5  \n",
       "2    2    14       6  \n",
       "3    2    14       7  \n",
       "4    2    14       8  "
      ]
     },
     "execution_count": 28,
     "metadata": {},
     "output_type": "execute_result"
    }
   ],
   "source": [
    "linear_final_df.head()"
   ]
  },
  {
   "cell_type": "code",
   "execution_count": 29,
   "id": "88b07d65",
   "metadata": {
    "scrolled": false
   },
   "outputs": [
    {
     "data": {
      "image/png": "[encoded data removed]",
      "text/plain": [
       "<Figure size 500x500 with 1 Axes>"
      ]
     },
     "metadata": {},
     "output_type": "display_data"
    }
   ],
   "source": [
    "sns.catplot(linear_final_df['TAC_Reading'], color=[(1.0, 0.627, 0.478) if x < 0.08 else (1, 0.5, 0.5) for x in linear_final_df['TAC_Reading']], )\n",
    "plt.axhline(y = 0.08, linestyle = '--',)\n",
    "plt.yticks([0, 0.04, 0.08, 0.12, 0.16, 0.20, 0.24])\n",
    "plt.ylabel('TAC readings')\n",
    "plt.title('Distribution of the TAC readings - After prediction')\n",
    "plt.show()"
   ]
  },
  {
   "cell_type": "markdown",
   "id": "181ca15a",
   "metadata": {},
   "source": [
    "## Logistic Regression"
   ]
  },
  {
   "cell_type": "code",
   "execution_count": 30,
   "id": "04b94c5a",
   "metadata": {},
   "outputs": [],
   "source": [
    "from sklearn.linear_model import LogisticRegression"
   ]
  },
  {
   "cell_type": "code",
   "execution_count": 31,
   "id": "cdd5e328",
   "metadata": {
    "scrolled": true
   },
   "outputs": [
    {
     "name": "stdout",
     "output_type": "stream",
     "text": [
      "Number of Mising values:  1171\n"
     ]
    },
    {
     "data": {
      "text/html": [
       "<div>\n",
       "<style scoped>\n",
       "    .dataframe tbody tr th:only-of-type {\n",
       "        vertical-align: middle;\n",
       "    }\n",
       "\n",
       "    .dataframe tbody tr th {\n",
       "        vertical-align: top;\n",
       "    }\n",
       "\n",
       "    .dataframe thead th {\n",
       "        text-align: right;\n",
       "    }\n",
       "</style>\n",
       "<table border=\"1\" class=\"dataframe\">\n",
       "  <thead>\n",
       "    <tr style=\"text-align: right;\">\n",
       "      <th></th>\n",
       "      <th>time_formatted</th>\n",
       "      <th>x</th>\n",
       "      <th>y</th>\n",
       "      <th>z</th>\n",
       "      <th>result</th>\n",
       "      <th>year</th>\n",
       "      <th>month</th>\n",
       "      <th>day</th>\n",
       "      <th>hour</th>\n",
       "      <th>minute</th>\n",
       "    </tr>\n",
       "  </thead>\n",
       "  <tbody>\n",
       "    <tr>\n",
       "      <th>0</th>\n",
       "      <td>2017-05-02 14:04:00</td>\n",
       "      <td>0.001855</td>\n",
       "      <td>0.000782</td>\n",
       "      <td>-0.001675</td>\n",
       "      <td>0.0</td>\n",
       "      <td>2017</td>\n",
       "      <td>5</td>\n",
       "      <td>2</td>\n",
       "      <td>14</td>\n",
       "      <td>4</td>\n",
       "    </tr>\n",
       "    <tr>\n",
       "      <th>1</th>\n",
       "      <td>2017-05-02 14:05:00</td>\n",
       "      <td>0.000190</td>\n",
       "      <td>0.000089</td>\n",
       "      <td>-0.003093</td>\n",
       "      <td>0.0</td>\n",
       "      <td>2017</td>\n",
       "      <td>5</td>\n",
       "      <td>2</td>\n",
       "      <td>14</td>\n",
       "      <td>5</td>\n",
       "    </tr>\n",
       "    <tr>\n",
       "      <th>2</th>\n",
       "      <td>2017-05-02 14:06:00</td>\n",
       "      <td>-0.011238</td>\n",
       "      <td>0.023635</td>\n",
       "      <td>0.000742</td>\n",
       "      <td>NaN</td>\n",
       "      <td>2017</td>\n",
       "      <td>5</td>\n",
       "      <td>2</td>\n",
       "      <td>14</td>\n",
       "      <td>6</td>\n",
       "    </tr>\n",
       "    <tr>\n",
       "      <th>3</th>\n",
       "      <td>2017-05-02 14:07:00</td>\n",
       "      <td>0.002123</td>\n",
       "      <td>-0.000780</td>\n",
       "      <td>-0.034414</td>\n",
       "      <td>NaN</td>\n",
       "      <td>2017</td>\n",
       "      <td>5</td>\n",
       "      <td>2</td>\n",
       "      <td>14</td>\n",
       "      <td>7</td>\n",
       "    </tr>\n",
       "    <tr>\n",
       "      <th>4</th>\n",
       "      <td>2017-05-02 14:08:00</td>\n",
       "      <td>0.002896</td>\n",
       "      <td>-0.000784</td>\n",
       "      <td>-0.005502</td>\n",
       "      <td>NaN</td>\n",
       "      <td>2017</td>\n",
       "      <td>5</td>\n",
       "      <td>2</td>\n",
       "      <td>14</td>\n",
       "      <td>8</td>\n",
       "    </tr>\n",
       "  </tbody>\n",
       "</table>\n",
       "</div>"
      ],
      "text/plain": [
       "       time_formatted         x         y         z  result  year  month  day  \\\n",
       "0 2017-05-02 14:04:00  0.001855  0.000782 -0.001675     0.0  2017      5    2   \n",
       "1 2017-05-02 14:05:00  0.000190  0.000089 -0.003093     0.0  2017      5    2   \n",
       "2 2017-05-02 14:06:00 -0.011238  0.023635  0.000742     NaN  2017      5    2   \n",
       "3 2017-05-02 14:07:00  0.002123 -0.000780 -0.034414     NaN  2017      5    2   \n",
       "4 2017-05-02 14:08:00  0.002896 -0.000784 -0.005502     NaN  2017      5    2   \n",
       "\n",
       "   hour  minute  \n",
       "0    14       4  \n",
       "1    14       5  \n",
       "2    14       6  \n",
       "3    14       7  \n",
       "4    14       8  "
      ]
     },
     "execution_count": 31,
     "metadata": {},
     "output_type": "execute_result"
    }
   ],
   "source": [
    "clean_tac_data['result'] = clean_tac_data['TAC_Reading'].apply(lambda x: 1 if x >= 0.08 else 0)\n",
    "\n",
    "log_final_df = df.merge(clean_tac_data, on='time_formatted', how='left')\n",
    "log_final_df = log_final_df.drop('TAC_Reading', axis = 1)\n",
    "\n",
    "log_final_df['year'] = log_final_df['time_formatted'].dt.year\n",
    "log_final_df['month'] = log_final_df['time_formatted'].dt.month\n",
    "log_final_df['day'] = log_final_df['time_formatted'].dt.day\n",
    "log_final_df['hour'] = log_final_df['time_formatted'].dt.hour\n",
    "log_final_df['minute'] = log_final_df['time_formatted'].dt.minute\n",
    "\n",
    "print('Number of Mising values: ', log_final_df.result.isna().sum())\n",
    "log_final_df.head()"
   ]
  },
  {
   "cell_type": "code",
   "execution_count": 32,
   "id": "c234644f",
   "metadata": {
    "scrolled": false
   },
   "outputs": [
    {
     "data": {
      "image/png": "[encoded data removed]",
      "text/plain": [
       "<Figure size 640x480 with 1 Axes>"
      ]
     },
     "metadata": {},
     "output_type": "display_data"
    }
   ],
   "source": [
    "plt.pie(log_final_df['result'].value_counts(), labels = ['Normal/Moderate drinking', 'Heavy drinking'], autopct='%.0f%%')\n",
    "plt.title('Proportions of the drunk levels - Before prediction')\n",
    "\n",
    "plt.show()"
   ]
  },
  {
   "cell_type": "code",
   "execution_count": 33,
   "id": "9e156898",
   "metadata": {},
   "outputs": [],
   "source": [
    "missing_values = log_final_df['result'].isnull()\n",
    "X = log_final_df[~missing_values][['year', 'month', 'day', 'hour', 'minute', 'x', 'y', 'z']]\n",
    "y = log_final_df[~missing_values]['result']"
   ]
  },
  {
   "cell_type": "code",
   "execution_count": 34,
   "id": "56ab11a5",
   "metadata": {},
   "outputs": [
    {
     "data": {
      "text/html": [
       "<style>#sk-container-id-2 {color: black;background-color: white;}#sk-container-id-2 pre{padding: 0;}#sk-container-id-2 div.sk-toggleable {background-color: white;}#sk-container-id-2 label.sk-toggleable__label {cursor: pointer;display: block;width: 100%;margin-bottom: 0;padding: 0.3em;box-sizing: border-box;text-align: center;}#sk-container-id-2 label.sk-toggleable__label-arrow:before {content: \"▸\";float: left;margin-right: 0.25em;color: #696969;}#sk-container-id-2 label.sk-toggleable__label-arrow:hover:before {color: black;}#sk-container-id-2 div.sk-estimator:hover label.sk-toggleable__label-arrow:before {color: black;}#sk-container-id-2 div.sk-toggleable__content {max-height: 0;max-width: 0;overflow: hidden;text-align: left;background-color: #f0f8ff;}#sk-container-id-2 div.sk-toggleable__content pre {margin: 0.2em;color: black;border-radius: 0.25em;background-color: #f0f8ff;}#sk-container-id-2 input.sk-toggleable__control:checked~div.sk-toggleable__content {max-height: 200px;max-width: 100%;overflow: auto;}#sk-container-id-2 input.sk-toggleable__control:checked~label.sk-toggleable__label-arrow:before {content: \"▾\";}#sk-container-id-2 div.sk-estimator input.sk-toggleable__control:checked~label.sk-toggleable__label {background-color: #d4ebff;}#sk-container-id-2 div.sk-label input.sk-toggleable__control:checked~label.sk-toggleable__label {background-color: #d4ebff;}#sk-container-id-2 input.sk-hidden--visually {border: 0;clip: rect(1px 1px 1px 1px);clip: rect(1px, 1px, 1px, 1px);height: 1px;margin: -1px;overflow: hidden;padding: 0;position: absolute;width: 1px;}#sk-container-id-2 div.sk-estimator {font-family: monospace;background-color: #f0f8ff;border: 1px dotted black;border-radius: 0.25em;box-sizing: border-box;margin-bottom: 0.5em;}#sk-container-id-2 div.sk-estimator:hover {background-color: #d4ebff;}#sk-container-id-2 div.sk-parallel-item::after {content: \"\";width: 100%;border-bottom: 1px solid gray;flex-grow: 1;}#sk-container-id-2 div.sk-label:hover label.sk-toggleable__label {background-color: #d4ebff;}#sk-container-id-2 div.sk-serial::before {content: \"\";position: absolute;border-left: 1px solid gray;box-sizing: border-box;top: 0;bottom: 0;left: 50%;z-index: 0;}#sk-container-id-2 div.sk-serial {display: flex;flex-direction: column;align-items: center;background-color: white;padding-right: 0.2em;padding-left: 0.2em;position: relative;}#sk-container-id-2 div.sk-item {position: relative;z-index: 1;}#sk-container-id-2 div.sk-parallel {display: flex;align-items: stretch;justify-content: center;background-color: white;position: relative;}#sk-container-id-2 div.sk-item::before, #sk-container-id-2 div.sk-parallel-item::before {content: \"\";position: absolute;border-left: 1px solid gray;box-sizing: border-box;top: 0;bottom: 0;left: 50%;z-index: -1;}#sk-container-id-2 div.sk-parallel-item {display: flex;flex-direction: column;z-index: 1;position: relative;background-color: white;}#sk-container-id-2 div.sk-parallel-item:first-child::after {align-self: flex-end;width: 50%;}#sk-container-id-2 div.sk-parallel-item:last-child::after {align-self: flex-start;width: 50%;}#sk-container-id-2 div.sk-parallel-item:only-child::after {width: 0;}#sk-container-id-2 div.sk-dashed-wrapped {border: 1px dashed gray;margin: 0 0.4em 0.5em 0.4em;box-sizing: border-box;padding-bottom: 0.4em;background-color: white;}#sk-container-id-2 div.sk-label label {font-family: monospace;font-weight: bold;display: inline-block;line-height: 1.2em;}#sk-container-id-2 div.sk-label-container {text-align: center;}#sk-container-id-2 div.sk-container {/* jupyter's `normalize.less` sets `[hidden] { display: none; }` but bootstrap.min.css set `[hidden] { display: none !important; }` so we also need the `!important` here to be able to override the default hidden behavior on the sphinx rendered scikit-learn.org. See: https://github.com/scikit-learn/scikit-learn/issues/21755 */display: inline-block !important;position: relative;}#sk-container-id-2 div.sk-text-repr-fallback {display: none;}</style><div id=\"sk-container-id-2\" class=\"sk-top-container\"><div class=\"sk-text-repr-fallback\"><pre>LogisticRegression()</pre><b>In a Jupyter environment, please rerun this cell to show the HTML representation or trust the notebook. <br />On GitHub, the HTML representation is unable to render, please try loading this page with nbviewer.org.</b></div><div class=\"sk-container\" hidden><div class=\"sk-item\"><div class=\"sk-estimator sk-toggleable\"><input class=\"sk-toggleable__control sk-hidden--visually\" id=\"sk-estimator-id-2\" type=\"checkbox\" checked><label for=\"sk-estimator-id-2\" class=\"sk-toggleable__label sk-toggleable__label-arrow\">LogisticRegression</label><div class=\"sk-toggleable__content\"><pre>LogisticRegression()</pre></div></div></div></div></div>"
      ],
      "text/plain": [
       "LogisticRegression()"
      ]
     },
     "execution_count": 34,
     "metadata": {},
     "output_type": "execute_result"
    }
   ],
   "source": [
    "log_model = LogisticRegression()\n",
    "log_model.fit(X, y)"
   ]
  },
  {
   "cell_type": "code",
   "execution_count": 35,
   "id": "d57ae725",
   "metadata": {},
   "outputs": [
    {
     "name": "stdout",
     "output_type": "stream",
     "text": [
      "Number of Missing values:  0\n"
     ]
    }
   ],
   "source": [
    "preds = log_model.predict(log_final_df[missing_values][['year', 'month', 'day', 'hour', 'minute', 'x', 'y', 'z']])\n",
    "log_final_df.loc[missing_values, 'result'] = preds\n",
    "print('Number of Missing values: ', log_final_df.result.isna().sum())"
   ]
  },
  {
   "cell_type": "code",
   "execution_count": 36,
   "id": "cd76f505",
   "metadata": {},
   "outputs": [
    {
     "data": {
      "text/html": [
       "<div>\n",
       "<style scoped>\n",
       "    .dataframe tbody tr th:only-of-type {\n",
       "        vertical-align: middle;\n",
       "    }\n",
       "\n",
       "    .dataframe tbody tr th {\n",
       "        vertical-align: top;\n",
       "    }\n",
       "\n",
       "    .dataframe thead th {\n",
       "        text-align: right;\n",
       "    }\n",
       "</style>\n",
       "<table border=\"1\" class=\"dataframe\">\n",
       "  <thead>\n",
       "    <tr style=\"text-align: right;\">\n",
       "      <th></th>\n",
       "      <th>time_formatted</th>\n",
       "      <th>x</th>\n",
       "      <th>y</th>\n",
       "      <th>z</th>\n",
       "      <th>result</th>\n",
       "      <th>year</th>\n",
       "      <th>month</th>\n",
       "      <th>day</th>\n",
       "      <th>hour</th>\n",
       "      <th>minute</th>\n",
       "    </tr>\n",
       "  </thead>\n",
       "  <tbody>\n",
       "    <tr>\n",
       "      <th>0</th>\n",
       "      <td>2017-05-02 14:04:00</td>\n",
       "      <td>0.001855</td>\n",
       "      <td>0.000782</td>\n",
       "      <td>-0.001675</td>\n",
       "      <td>0.0</td>\n",
       "      <td>2017</td>\n",
       "      <td>5</td>\n",
       "      <td>2</td>\n",
       "      <td>14</td>\n",
       "      <td>4</td>\n",
       "    </tr>\n",
       "    <tr>\n",
       "      <th>1</th>\n",
       "      <td>2017-05-02 14:05:00</td>\n",
       "      <td>0.000190</td>\n",
       "      <td>0.000089</td>\n",
       "      <td>-0.003093</td>\n",
       "      <td>0.0</td>\n",
       "      <td>2017</td>\n",
       "      <td>5</td>\n",
       "      <td>2</td>\n",
       "      <td>14</td>\n",
       "      <td>5</td>\n",
       "    </tr>\n",
       "    <tr>\n",
       "      <th>2</th>\n",
       "      <td>2017-05-02 14:06:00</td>\n",
       "      <td>-0.011238</td>\n",
       "      <td>0.023635</td>\n",
       "      <td>0.000742</td>\n",
       "      <td>0.0</td>\n",
       "      <td>2017</td>\n",
       "      <td>5</td>\n",
       "      <td>2</td>\n",
       "      <td>14</td>\n",
       "      <td>6</td>\n",
       "    </tr>\n",
       "    <tr>\n",
       "      <th>3</th>\n",
       "      <td>2017-05-02 14:07:00</td>\n",
       "      <td>0.002123</td>\n",
       "      <td>-0.000780</td>\n",
       "      <td>-0.034414</td>\n",
       "      <td>0.0</td>\n",
       "      <td>2017</td>\n",
       "      <td>5</td>\n",
       "      <td>2</td>\n",
       "      <td>14</td>\n",
       "      <td>7</td>\n",
       "    </tr>\n",
       "    <tr>\n",
       "      <th>4</th>\n",
       "      <td>2017-05-02 14:08:00</td>\n",
       "      <td>0.002896</td>\n",
       "      <td>-0.000784</td>\n",
       "      <td>-0.005502</td>\n",
       "      <td>0.0</td>\n",
       "      <td>2017</td>\n",
       "      <td>5</td>\n",
       "      <td>2</td>\n",
       "      <td>14</td>\n",
       "      <td>8</td>\n",
       "    </tr>\n",
       "    <tr>\n",
       "      <th>...</th>\n",
       "      <td>...</td>\n",
       "      <td>...</td>\n",
       "      <td>...</td>\n",
       "      <td>...</td>\n",
       "      <td>...</td>\n",
       "      <td>...</td>\n",
       "      <td>...</td>\n",
       "      <td>...</td>\n",
       "      <td>...</td>\n",
       "      <td>...</td>\n",
       "    </tr>\n",
       "    <tr>\n",
       "      <th>1584</th>\n",
       "      <td>2017-05-03 16:30:00</td>\n",
       "      <td>-0.219377</td>\n",
       "      <td>-0.531619</td>\n",
       "      <td>0.078867</td>\n",
       "      <td>0.0</td>\n",
       "      <td>2017</td>\n",
       "      <td>5</td>\n",
       "      <td>3</td>\n",
       "      <td>16</td>\n",
       "      <td>30</td>\n",
       "    </tr>\n",
       "    <tr>\n",
       "      <th>1585</th>\n",
       "      <td>2017-05-03 16:31:00</td>\n",
       "      <td>0.054242</td>\n",
       "      <td>0.215892</td>\n",
       "      <td>0.243929</td>\n",
       "      <td>0.0</td>\n",
       "      <td>2017</td>\n",
       "      <td>5</td>\n",
       "      <td>3</td>\n",
       "      <td>16</td>\n",
       "      <td>31</td>\n",
       "    </tr>\n",
       "    <tr>\n",
       "      <th>1586</th>\n",
       "      <td>2017-05-03 16:32:00</td>\n",
       "      <td>0.004057</td>\n",
       "      <td>0.255445</td>\n",
       "      <td>0.174700</td>\n",
       "      <td>0.0</td>\n",
       "      <td>2017</td>\n",
       "      <td>5</td>\n",
       "      <td>3</td>\n",
       "      <td>16</td>\n",
       "      <td>32</td>\n",
       "    </tr>\n",
       "    <tr>\n",
       "      <th>1587</th>\n",
       "      <td>2017-05-03 16:33:00</td>\n",
       "      <td>0.006580</td>\n",
       "      <td>0.256223</td>\n",
       "      <td>0.201364</td>\n",
       "      <td>0.0</td>\n",
       "      <td>2017</td>\n",
       "      <td>5</td>\n",
       "      <td>3</td>\n",
       "      <td>16</td>\n",
       "      <td>33</td>\n",
       "    </tr>\n",
       "    <tr>\n",
       "      <th>1588</th>\n",
       "      <td>2017-05-03 16:34:00</td>\n",
       "      <td>0.046025</td>\n",
       "      <td>0.227985</td>\n",
       "      <td>0.210867</td>\n",
       "      <td>0.0</td>\n",
       "      <td>2017</td>\n",
       "      <td>5</td>\n",
       "      <td>3</td>\n",
       "      <td>16</td>\n",
       "      <td>34</td>\n",
       "    </tr>\n",
       "  </tbody>\n",
       "</table>\n",
       "<p>1589 rows × 10 columns</p>\n",
       "</div>"
      ],
      "text/plain": [
       "          time_formatted         x         y         z  result  year  month  \\\n",
       "0    2017-05-02 14:04:00  0.001855  0.000782 -0.001675     0.0  2017      5   \n",
       "1    2017-05-02 14:05:00  0.000190  0.000089 -0.003093     0.0  2017      5   \n",
       "2    2017-05-02 14:06:00 -0.011238  0.023635  0.000742     0.0  2017      5   \n",
       "3    2017-05-02 14:07:00  0.002123 -0.000780 -0.034414     0.0  2017      5   \n",
       "4    2017-05-02 14:08:00  0.002896 -0.000784 -0.005502     0.0  2017      5   \n",
       "...                  ...       ...       ...       ...     ...   ...    ...   \n",
       "1584 2017-05-03 16:30:00 -0.219377 -0.531619  0.078867     0.0  2017      5   \n",
       "1585 2017-05-03 16:31:00  0.054242  0.215892  0.243929     0.0  2017      5   \n",
       "1586 2017-05-03 16:32:00  0.004057  0.255445  0.174700     0.0  2017      5   \n",
       "1587 2017-05-03 16:33:00  0.006580  0.256223  0.201364     0.0  2017      5   \n",
       "1588 2017-05-03 16:34:00  0.046025  0.227985  0.210867     0.0  2017      5   \n",
       "\n",
       "      day  hour  minute  \n",
       "0       2    14       4  \n",
       "1       2    14       5  \n",
       "2       2    14       6  \n",
       "3       2    14       7  \n",
       "4       2    14       8  \n",
       "...   ...   ...     ...  \n",
       "1584    3    16      30  \n",
       "1585    3    16      31  \n",
       "1586    3    16      32  \n",
       "1587    3    16      33  \n",
       "1588    3    16      34  \n",
       "\n",
       "[1589 rows x 10 columns]"
      ]
     },
     "execution_count": 36,
     "metadata": {},
     "output_type": "execute_result"
    }
   ],
   "source": [
    "log_final_df"
   ]
  },
  {
   "cell_type": "code",
   "execution_count": 37,
   "id": "4e79ee1f",
   "metadata": {
    "scrolled": false
   },
   "outputs": [
    {
     "data": {
      "image/png": "[encoded data removed]",
      "text/plain": [
       "<Figure size 640x480 with 1 Axes>"
      ]
     },
     "metadata": {},
     "output_type": "display_data"
    }
   ],
   "source": [
    "plt.pie(log_final_df['result'].value_counts(), labels = ['Normal/Moderate drinking', 'Heavy drinking'], autopct='%.0f%%')\n",
    "plt.title('Proportions of the drunk levels - After prediction')\n",
    "\n",
    "plt.show()"
   ]
  },
  {
   "cell_type": "code",
   "execution_count": null,
   "id": "8ebe6ccf",
   "metadata": {},
   "outputs": [],
   "source": []
  }
 ],
 "metadata": {
  "kernelspec": {
   "display_name": "Python 3 (ipykernel)",
   "language": "python",
   "name": "python3"
  },
  "language_info": {
   "codemirror_mode": {
    "name": "ipython",
    "version": 3
   },
   "file_extension": ".py",
   "mimetype": "text/x-python",
   "name": "python",
   "nbconvert_exporter": "python",
   "pygments_lexer": "ipython3",
   "version": "3.11.3"
  }
 },
 "nbformat": 4,
 "nbformat_minor": 5
}
